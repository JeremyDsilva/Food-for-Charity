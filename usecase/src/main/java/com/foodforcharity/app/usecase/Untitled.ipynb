{
 "cells": [
  {
   "cell_type": "code",
   "execution_count": 21,
   "metadata": {},
   "outputs": [],
   "source": [
    "import os"
   ]
  },
  {
   "cell_type": "code",
   "execution_count": 22,
   "metadata": {},
   "outputs": [],
   "source": [
    "#create folders:\n",
    "\n",
    "for i in [\"foodreservation\",\"reviews\",\"profile\"]:\n",
    "    os.mkdir(i)\n"
   ]
  },
  {
   "cell_type": "code",
   "execution_count": 23,
   "metadata": {
    "scrolled": true
   },
   "outputs": [
    {
     "name": "stdout",
     "output_type": "stream",
     "text": [
      "[('profile', 'ViewProfile', 'Void'), ('profile', 'AddMenu', 'Void'), ('foodreservation', 'CreateRequest', 'Void'), ('profile', 'DeleteMenuItem', 'Void'), ('profile', 'ModifyMenuItem', 'Void'), ('profile', 'SelectPreferences', 'Void'), ('foodreservation', 'RequestCompletion', 'Void'), ('account', 'Register', 'Void'), ('account', 'ChangeStatus', 'Void'), ('reviews', 'FileComplaint', 'Void'), ('reviews', 'ViewComplaints', 'Void')]\n"
     ]
    }
   ],
   "source": [
    "# MainPath=r\"C:\\Users\\pinkb\\OneDrive\\Desktop\\Food For Charity\\Food-for-Charity\\usecase\\src\\main\\java\\com\\foodforcharity\\app\\usecase\\account\\changepassword\"\n",
    "\n",
    "import pandas as pd\n",
    "P_C_R=[]\n",
    "\n",
    "df= pd.read_excel(r\"C:\\Users\\pinkb\\OneDrive\\Desktop\\trial1.xlsx\")\n",
    "\n",
    "\n",
    "for r in range(df.shape[0]): \n",
    "    combine=((df.at[r,\"P\"],df.at[r,\"C\"],df.at[r,\"R\"]))\n",
    "    P_C_R.append(combine)\n",
    "print(P_C_R)\n",
    "\n",
    "# folder_path=packages[2]   \n",
    "\n",
    "for p,c,r in P_C_R:\n",
    "    Path= p+\"\\\\\"+c.lower()\n",
    "    if not os.path.isdir(Path):\n",
    "        os.mkdir(Path)\n",
    "    #command class\n",
    "    commandclass=c+\"Command.java\"\n",
    "    \n",
    "    file= open(Path+\"\\\\\"+commandclass,'w')\n",
    "    str1=\"package com.foodforcharity.app.usecase.\"+p+\".\"+c.lower()+\";\"\n",
    "    str2=\"\\n\\nimport com.foodforcharity.app.mediator.Command;\"\n",
    "    str3=\"\\n\\npublic class \"+c+\"Command implements Command<\"+r+\"> {\\n\\n\"\n",
    "    str4=\"\\tpublic \"+c+\"Command(){\\n\\n\\t}\\n\\n}\"\n",
    "    file.write(str1+str2+str3+str4)\n",
    "    file.close()\n",
    "    \n",
    "    #command handler class\n",
    "    commandHandlerclass=c+\"CommandHandler.java\"\n",
    "    file2=open(Path+\"\\\\\"+commandHandlerclass,'w')\n",
    "    str5=\"\\n\\nimport com.foodforcharity.app.mediator.CommandHandler;\"\n",
    "    str6=\"\\n\\nimport org.springframework.stereotype.Service;\"\n",
    "    str7=\"\\n\\n@Service\\npublic class \"+c+\"CommandHandler implements CommandHandler<\"+c+\"Command, \"+r+\"> {\\n\\n\"\n",
    "    str8=\"\\tpublic \"+c+\"CommandHandler(){\\n\\n\\t}\"\n",
    "    str9=\"\\n\\n\\t@Override\\n\\tpublic \"+r+\" handle(\"+c+\"Command command) {\\n\\n\\t\\treturn null;\\n\\n\\t}\\n\\n}\"\n",
    "    file2.write(str1+str5+str6+str7+str8+str9)\n",
    "    file2.close()\n",
    "    \n",
    "\n",
    "\n",
    "\n",
    "\n",
    "    "
   ]
  },
  {
   "cell_type": "code",
   "execution_count": 20,
   "metadata": {},
   "outputs": [],
   "source": [
    "# packages=[\"food_reservation\",\"reviews\",\"profile\",\"account\"]\n",
    "# folder_path=(packages[2])\n",
    "# x= folder_path+\"\\\\\"+\".java\"           \n",
    "# print(x)\n"
   ]
  },
  {
   "cell_type": "code",
   "execution_count": 67,
   "metadata": {},
   "outputs": [
    {
     "name": "stdout",
     "output_type": "stream",
     "text": [
      "[('B', 2, 'b'), ('C', 3, 'c')]\n"
     ]
    }
   ],
   "source": [
    "import pandas as pd\n",
    "P_C_R=[]\n",
    "\n",
    "df= pd.read_excel(r\"C:\\Users\\pinkb\\OneDrive\\Desktop\\trial1.xlsx\")\n",
    "\n",
    "\n",
    "for r in range(df.shape[0]): \n",
    "    combine=((df.at[r,\"P\"],df.at[r,\"C\"],df.at[r,\"R\"]))\n",
    "    P_C_R.append(combine)\n",
    "print(P_C_R)\n",
    "        "
   ]
  },
  {
   "cell_type": "code",
   "execution_count": 66,
   "metadata": {},
   "outputs": [
    {
     "data": {
      "text/html": [
       "<div>\n",
       "<style scoped>\n",
       "    .dataframe tbody tr th:only-of-type {\n",
       "        vertical-align: middle;\n",
       "    }\n",
       "\n",
       "    .dataframe tbody tr th {\n",
       "        vertical-align: top;\n",
       "    }\n",
       "\n",
       "    .dataframe thead th {\n",
       "        text-align: right;\n",
       "    }\n",
       "</style>\n",
       "<table border=\"1\" class=\"dataframe\">\n",
       "  <thead>\n",
       "    <tr style=\"text-align: right;\">\n",
       "      <th></th>\n",
       "      <th>A</th>\n",
       "      <th>1</th>\n",
       "      <th>a</th>\n",
       "    </tr>\n",
       "  </thead>\n",
       "  <tbody>\n",
       "    <tr>\n",
       "      <td>0</td>\n",
       "      <td>B</td>\n",
       "      <td>2</td>\n",
       "      <td>b</td>\n",
       "    </tr>\n",
       "    <tr>\n",
       "      <td>1</td>\n",
       "      <td>C</td>\n",
       "      <td>3</td>\n",
       "      <td>c</td>\n",
       "    </tr>\n",
       "  </tbody>\n",
       "</table>\n",
       "</div>"
      ],
      "text/plain": [
       "   A  1  a\n",
       "0  B  2  b\n",
       "1  C  3  c"
      ]
     },
     "execution_count": 66,
     "metadata": {},
     "output_type": "execute_result"
    }
   ],
   "source": [
    "df.head()"
   ]
  }
 ],
 "metadata": {
  "kernelspec": {
   "display_name": "Python 3",
   "language": "python",
   "name": "python3"
  },
  "language_info": {
   "codemirror_mode": {
    "name": "ipython",
    "version": 3
   },
   "file_extension": ".py",
   "mimetype": "text/x-python",
   "name": "python",
   "nbconvert_exporter": "python",
   "pygments_lexer": "ipython3",
   "version": "3.7.4"
  }
 },
 "nbformat": 4,
 "nbformat_minor": 2
}
